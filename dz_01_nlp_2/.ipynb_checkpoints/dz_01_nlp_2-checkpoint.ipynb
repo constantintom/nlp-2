{
 "cells": [
  {
   "cell_type": "markdown",
   "metadata": {
    "id": "79NdO8ExIVaL"
   },
   "source": [
    "# Домашнее задание к занятию \"Тематическое моделирование\""
   ]
  },
  {
   "cell_type": "markdown",
   "metadata": {},
   "source": [
    "### Классификация по тональности\n",
    "В этом домашнем задании вам предстоит классифицировать по тональности отзывы на банки с сайта banki.ru.\n",
    "Данные содержат непосредственно тексты отзывов, некоторую дополнительную информацию, а также оценку по шкале от 1 до 5.\n",
    "Тексты хранятся в json-ах в массиве responses.\n",
    "Посмотрим на примере отзыва: возьмите для удобства ноутбук, размещенный в папке репозитория."
   ]
  },
  {
   "cell_type": "code",
   "execution_count": 1,
   "metadata": {},
   "outputs": [],
   "source": [
    "import json\n",
    "import bz2\n",
    "import regex\n",
    "from tqdm import tqdm\n",
    "from scipy import sparse"
   ]
  },
  {
   "cell_type": "code",
   "execution_count": 33,
   "metadata": {},
   "outputs": [
    {
     "name": "stdout",
     "output_type": "stream",
     "text": [
      "Populating the interactive namespace from numpy and matplotlib\n"
     ]
    }
   ],
   "source": [
    "import pandas as pd\n",
    "import numpy as np\n",
    "import nltk\n",
    "import matplotlib.pyplot as plt\n",
    "import seaborn as sns\n",
    "%matplotlib inline\n",
    "%pylab inline\n",
    "import warnings\n",
    "warnings.filterwarnings('ignore')\n",
    "from sklearn.model_selection import train_test_split"
   ]
  },
  {
   "cell_type": "code",
   "execution_count": 92,
   "metadata": {
    "executionInfo": {
     "elapsed": 1115,
     "status": "ok",
     "timestamp": 1633689114866,
     "user": {
      "displayName": "Артур Сапрыкин",
      "photoUrl": "https://lh3.googleusercontent.com/a/default-user=s64",
      "userId": "16185371824692237125"
     },
     "user_tz": -180
    },
    "id": "RTfZM4MPIVaP"
   },
   "outputs": [],
   "source": [
    "import re\n",
    "from nltk.corpus import stopwords\n",
    "from nltk.tokenize import word_tokenize"
   ]
  },
  {
   "cell_type": "code",
   "execution_count": 4,
   "metadata": {
    "colab": {
     "base_uri": "https://localhost:8080/"
    },
    "executionInfo": {
     "elapsed": 5721,
     "status": "ok",
     "timestamp": 1633689120585,
     "user": {
      "displayName": "Артур Сапрыкин",
      "photoUrl": "https://lh3.googleusercontent.com/a/default-user=s64",
      "userId": "16185371824692237125"
     },
     "user_tz": -180
    },
    "id": "lKoniw_0IVaQ",
    "outputId": "699d1f21-b23f-4870-e6c1-ee989c2117d9"
   },
   "outputs": [],
   "source": [
    "from pymystem3 import Mystem\n",
    "mystem = Mystem()"
   ]
  },
  {
   "cell_type": "code",
   "execution_count": 292,
   "metadata": {},
   "outputs": [],
   "source": [
    "import pymorphy2\n",
    "morph = pymorphy2.MorphAnalyzer()\n",
    "\n",
    "from sklearn.feature_extraction.text import TfidfVectorizer, TfidfTransformer\n",
    "from sklearn.decomposition import TruncatedSVD, LatentDirichletAllocation\n",
    "from sklearn.metrics  import classification_report"
   ]
  },
  {
   "cell_type": "code",
   "execution_count": 6,
   "metadata": {
    "colab": {
     "base_uri": "https://localhost:8080/"
    },
    "executionInfo": {
     "elapsed": 8,
     "status": "ok",
     "timestamp": 1633689120586,
     "user": {
      "displayName": "Артур Сапрыкин",
      "photoUrl": "https://lh3.googleusercontent.com/a/default-user=s64",
      "userId": "16185371824692237125"
     },
     "user_tz": -180
    },
    "id": "1nFYyTlQNZ_z",
    "outputId": "7b4eb586-4f67-46cd-a608-bbddd1ae53b8"
   },
   "outputs": [
    {
     "name": "stderr",
     "output_type": "stream",
     "text": [
      "[nltk_data] Downloading package stopwords to\n",
      "[nltk_data]     C:\\Users\\MYSELF\\AppData\\Roaming\\nltk_data...\n",
      "[nltk_data]   Package stopwords is already up-to-date!\n"
     ]
    },
    {
     "data": {
      "text/plain": [
       "True"
      ]
     },
     "execution_count": 6,
     "metadata": {},
     "output_type": "execute_result"
    }
   ],
   "source": [
    "import nltk\n",
    "nltk.download('stopwords')"
   ]
  },
  {
   "cell_type": "code",
   "execution_count": 7,
   "metadata": {},
   "outputs": [
    {
     "name": "stderr",
     "output_type": "stream",
     "text": [
      "201030it [02:49, 1186.38it/s]\n"
     ]
    }
   ],
   "source": [
    "responses = []\n",
    "with bz2.BZ2File('D:/DATA_SCIENCE/dataset/banki_responses.json.bz2', 'r') as thefile:\n",
    "    for row in tqdm(thefile):\n",
    "        resp = json.loads(row)\n",
    "        if not resp['rating_not_checked'] and (len(resp['text'].split()) > 0):\n",
    "            responses.append(resp)"
   ]
  },
  {
   "cell_type": "code",
   "execution_count": 8,
   "metadata": {},
   "outputs": [
    {
     "data": {
      "text/plain": [
       "{'city': 'г. Саратов',\n",
       " 'rating_not_checked': False,\n",
       " 'title': 'Карта ко вкладу',\n",
       " 'num_comments': 0,\n",
       " 'bank_license': 'лицензия № 880',\n",
       " 'author': 'ronnichka',\n",
       " 'bank_name': 'Югра',\n",
       " 'datetime': '2015-06-03 20:56:57',\n",
       " 'text': 'Здравствуйте! Хотела написать, что мне месяц не выдают карту ко вкладу, ссылаясь на \"нам же их из Самары везут\" (на секундочку 5 часов езды от нашего города). Но! Прочитала, что людям 3,5 месяцев не выдают карту, и поняла, что у меня все хорошо, пока что. И подарок мне дали, и кулер в отделении есть. Так что я, конечно, готова ждать. Правда хотелось бы не очень долго.',\n",
       " 'rating_grade': 3}"
      ]
     },
     "execution_count": 8,
     "metadata": {},
     "output_type": "execute_result"
    }
   ],
   "source": [
    "responses[99]"
   ]
  },
  {
   "cell_type": "code",
   "execution_count": 9,
   "metadata": {
    "tags": []
   },
   "outputs": [
    {
     "data": {
      "text/html": [
       "<div>\n",
       "<style scoped>\n",
       "    .dataframe tbody tr th:only-of-type {\n",
       "        vertical-align: middle;\n",
       "    }\n",
       "\n",
       "    .dataframe tbody tr th {\n",
       "        vertical-align: top;\n",
       "    }\n",
       "\n",
       "    .dataframe thead th {\n",
       "        text-align: right;\n",
       "    }\n",
       "</style>\n",
       "<table border=\"1\" class=\"dataframe\">\n",
       "  <thead>\n",
       "    <tr style=\"text-align: right;\">\n",
       "      <th></th>\n",
       "      <th>city</th>\n",
       "      <th>rating_not_checked</th>\n",
       "      <th>title</th>\n",
       "      <th>num_comments</th>\n",
       "      <th>bank_license</th>\n",
       "      <th>author</th>\n",
       "      <th>bank_name</th>\n",
       "      <th>datetime</th>\n",
       "      <th>text</th>\n",
       "      <th>rating_grade</th>\n",
       "    </tr>\n",
       "  </thead>\n",
       "  <tbody>\n",
       "    <tr>\n",
       "      <th>0</th>\n",
       "      <td>г. Москва</td>\n",
       "      <td>False</td>\n",
       "      <td>Жалоба</td>\n",
       "      <td>0</td>\n",
       "      <td>лицензия № 2562</td>\n",
       "      <td>uhnov1</td>\n",
       "      <td>Бинбанк</td>\n",
       "      <td>2015-06-08 12:50:54</td>\n",
       "      <td>Добрый день! Я не являюсь клиентом банка и пор...</td>\n",
       "      <td>NaN</td>\n",
       "    </tr>\n",
       "    <tr>\n",
       "      <th>1</th>\n",
       "      <td>г. Новосибирск</td>\n",
       "      <td>False</td>\n",
       "      <td>Не могу пользоваться услугой Сбербанк он-лайн</td>\n",
       "      <td>0</td>\n",
       "      <td>лицензия № 1481</td>\n",
       "      <td>Foryou</td>\n",
       "      <td>Сбербанк России</td>\n",
       "      <td>2015-06-08 11:09:57</td>\n",
       "      <td>Доброго дня! Являюсь держателем зарплатной кар...</td>\n",
       "      <td>NaN</td>\n",
       "    </tr>\n",
       "    <tr>\n",
       "      <th>2</th>\n",
       "      <td>г. Москва</td>\n",
       "      <td>False</td>\n",
       "      <td>Двойное списание за один товар.</td>\n",
       "      <td>1</td>\n",
       "      <td>лицензия № 2562</td>\n",
       "      <td>Vladimir84</td>\n",
       "      <td>Бинбанк</td>\n",
       "      <td>2015-06-05 20:14:28</td>\n",
       "      <td>Здравствуйте!  Дублирую свое заявление от 03.0...</td>\n",
       "      <td>NaN</td>\n",
       "    </tr>\n",
       "    <tr>\n",
       "      <th>3</th>\n",
       "      <td>г. Ставрополь</td>\n",
       "      <td>False</td>\n",
       "      <td>Меняют проценты комиссии  не предупредив и не ...</td>\n",
       "      <td>2</td>\n",
       "      <td>лицензия № 1481</td>\n",
       "      <td>643609</td>\n",
       "      <td>Сбербанк России</td>\n",
       "      <td>2015-06-05 13:51:01</td>\n",
       "      <td>Добрый день!! Я открыл расчетный счет в СберБа...</td>\n",
       "      <td>NaN</td>\n",
       "    </tr>\n",
       "    <tr>\n",
       "      <th>4</th>\n",
       "      <td>г. Челябинск</td>\n",
       "      <td>False</td>\n",
       "      <td>Верните денежные средства за страховку</td>\n",
       "      <td>1</td>\n",
       "      <td>лицензия № 2766</td>\n",
       "      <td>anfisa-2003</td>\n",
       "      <td>ОТП Банк</td>\n",
       "      <td>2015-06-05 10:58:12</td>\n",
       "      <td>04.03.2015 г. взяла кредит в вашем банке, заяв...</td>\n",
       "      <td>NaN</td>\n",
       "    </tr>\n",
       "  </tbody>\n",
       "</table>\n",
       "</div>"
      ],
      "text/plain": [
       "             city  rating_not_checked  \\\n",
       "0       г. Москва               False   \n",
       "1  г. Новосибирск               False   \n",
       "2       г. Москва               False   \n",
       "3   г. Ставрополь               False   \n",
       "4    г. Челябинск               False   \n",
       "\n",
       "                                               title  num_comments  \\\n",
       "0                                             Жалоба             0   \n",
       "1      Не могу пользоваться услугой Сбербанк он-лайн             0   \n",
       "2                    Двойное списание за один товар.             1   \n",
       "3  Меняют проценты комиссии  не предупредив и не ...             2   \n",
       "4             Верните денежные средства за страховку             1   \n",
       "\n",
       "      bank_license       author        bank_name             datetime  \\\n",
       "0  лицензия № 2562       uhnov1          Бинбанк  2015-06-08 12:50:54   \n",
       "1  лицензия № 1481       Foryou  Сбербанк России  2015-06-08 11:09:57   \n",
       "2  лицензия № 2562   Vladimir84          Бинбанк  2015-06-05 20:14:28   \n",
       "3  лицензия № 1481       643609  Сбербанк России  2015-06-05 13:51:01   \n",
       "4  лицензия № 2766  anfisa-2003         ОТП Банк  2015-06-05 10:58:12   \n",
       "\n",
       "                                                text  rating_grade  \n",
       "0  Добрый день! Я не являюсь клиентом банка и пор...           NaN  \n",
       "1  Доброго дня! Являюсь держателем зарплатной кар...           NaN  \n",
       "2  Здравствуйте!  Дублирую свое заявление от 03.0...           NaN  \n",
       "3  Добрый день!! Я открыл расчетный счет в СберБа...           NaN  \n",
       "4  04.03.2015 г. взяла кредит в вашем банке, заяв...           NaN  "
      ]
     },
     "execution_count": 9,
     "metadata": {},
     "output_type": "execute_result"
    }
   ],
   "source": [
    "df = pd.DataFrame(responses)\n",
    "df.head()"
   ]
  },
  {
   "cell_type": "code",
   "execution_count": 10,
   "metadata": {},
   "outputs": [
    {
     "name": "stdout",
     "output_type": "stream",
     "text": [
      "<class 'pandas.core.frame.DataFrame'>\n",
      "RangeIndex: 153499 entries, 0 to 153498\n",
      "Data columns (total 10 columns):\n",
      " #   Column              Non-Null Count   Dtype  \n",
      "---  ------              --------------   -----  \n",
      " 0   city                138325 non-null  object \n",
      " 1   rating_not_checked  153499 non-null  bool   \n",
      " 2   title               153499 non-null  object \n",
      " 3   num_comments        153499 non-null  int64  \n",
      " 4   bank_license        153498 non-null  object \n",
      " 5   author              153479 non-null  object \n",
      " 6   bank_name           153499 non-null  object \n",
      " 7   datetime            153499 non-null  object \n",
      " 8   text                153499 non-null  object \n",
      " 9   rating_grade        88658 non-null   float64\n",
      "dtypes: bool(1), float64(1), int64(1), object(7)\n",
      "memory usage: 10.7+ MB\n"
     ]
    }
   ],
   "source": [
    "df.info()"
   ]
  },
  {
   "cell_type": "markdown",
   "metadata": {},
   "source": [
    "#### Часть 1. Анализ текстов"
   ]
  },
  {
   "cell_type": "markdown",
   "metadata": {},
   "source": [
    "* Посчитайте количество отзывов в разных городах и на разные банки"
   ]
  },
  {
   "cell_type": "code",
   "execution_count": 11,
   "metadata": {},
   "outputs": [
    {
     "data": {
      "text/plain": [
       "city\n",
       "г.  (Красногорск)                           1\n",
       "г.  (Москва)                                2\n",
       "г.  (Россия)                                1\n",
       "г.  (Ханты-Мансийский автономный округ)     1\n",
       "г. -                                        1\n",
       "                                           ..\n",
       "г. ялуторовск                               1\n",
       "г. янаул                                    2\n",
       "г. ярославль                               12\n",
       "г. ярцево                                   2\n",
       "г. … или другой населенный пункт            1\n",
       "Name: title, Length: 5823, dtype: int64"
      ]
     },
     "execution_count": 11,
     "metadata": {},
     "output_type": "execute_result"
    }
   ],
   "source": [
    "df.groupby(df.city)['title'].count()"
   ]
  },
  {
   "cell_type": "code",
   "execution_count": 12,
   "metadata": {},
   "outputs": [
    {
     "data": {
      "text/plain": [
       "bank_name\n",
       "2Т Банк          655\n",
       "АБ Финанс         23\n",
       "АББ                2\n",
       "АМБ Банк           1\n",
       "АМТ Банк         142\n",
       "                ... \n",
       "Юнистрим          81\n",
       "ЯР-Банк           12\n",
       "Яндекс.Деньги    226\n",
       "Ярославич          5\n",
       "Ярсоцбанк          7\n",
       "Name: title, Length: 670, dtype: int64"
      ]
     },
     "execution_count": 12,
     "metadata": {},
     "output_type": "execute_result"
    }
   ],
   "source": [
    "df.groupby(df.bank_name)['title'].count()"
   ]
  },
  {
   "cell_type": "markdown",
   "metadata": {},
   "source": [
    "* Постройте гистограмы длин текстов в символах и в словах"
   ]
  },
  {
   "cell_type": "code",
   "execution_count": 13,
   "metadata": {},
   "outputs": [],
   "source": [
    "from sklearn.feature_extraction.text import CountVectorizer"
   ]
  },
  {
   "cell_type": "code",
   "execution_count": 14,
   "metadata": {},
   "outputs": [],
   "source": [
    "vec_words = CountVectorizer(ngram_range=(1, 1), stop_words=stopwords.words('russian'))\n",
    "bow_words = vec_words.fit_transform(df.text)\n",
    "vec_symbol = CountVectorizer(analyzer='char')\n",
    "bow_symbol = vec_symbol.fit_transform(df.text)"
   ]
  },
  {
   "cell_type": "code",
   "execution_count": 15,
   "metadata": {},
   "outputs": [],
   "source": [
    "ln_words = []\n",
    "ln_symbol = []\n",
    "for i in range(1000):\n",
    "    ln_words.append(np.sum(bow_words[i].todense()))\n",
    "    ln_symbol.append(np.sum(bow_symbol[i].todense()))"
   ]
  },
  {
   "cell_type": "code",
   "execution_count": 16,
   "metadata": {},
   "outputs": [
    {
     "data": {
      "image/png": "[encoded data removed]",
      "text/plain": [
       "<Figure size 936x576 with 2 Axes>"
      ]
     },
     "metadata": {
      "needs_background": "light"
     },
     "output_type": "display_data"
    }
   ],
   "source": [
    "fig, axes = plt.subplots(1, 2,figsize=(13,8))\n",
    "\n",
    "axes[0].hist(ln_symbol, bins = 200)\n",
    "axes[0].set_xlim(0, 1000)\n",
    "axes[1].hist(ln_words, bins = 100)\n",
    "axes[1].set_xlim(0, 1000)\n",
    "axes[0].set_title(u\"Длины текстов в символах\")\n",
    "axes[1].set_title(u\"Длины текстов в словах\")\n",
    "fig.show()"
   ]
  },
  {
   "cell_type": "markdown",
   "metadata": {},
   "source": [
    "* Найдите 10 самых частых:\n",
    "  * слов\n",
    "  * слов без стоп-слов\n",
    "  * лемм\n",
    "  * существительных"
   ]
  },
  {
   "cell_type": "code",
   "execution_count": 17,
   "metadata": {},
   "outputs": [
    {
     "data": {
      "text/plain": [
       "[('спрашивающего', 275765),\n",
       " ('погуглила', 215209),\n",
       " ('пащинская', 183365),\n",
       " ('нескончаемыми', 131197),\n",
       " ('1067184', 105824),\n",
       " ('гренбери', 101814),\n",
       " ('староневский', 81116),\n",
       " ('32541', 76546),\n",
       " ('буфеты', 72085),\n",
       " ('радикальных', 70422)]"
      ]
     },
     "execution_count": 17,
     "metadata": {},
     "output_type": "execute_result"
    }
   ],
   "source": [
    "# слов\n",
    "sorted(list(zip(vec_words.vocabulary_.keys(), bow_words.sum(0).getA1())), key = lambda i: i[1], reverse =True)[:10]"
   ]
  },
  {
   "cell_type": "code",
   "execution_count": 18,
   "metadata": {},
   "outputs": [
    {
     "data": {
      "text/plain": [
       "[('отвечавшая', 852416),\n",
       " ('табак', 707784),\n",
       " ('выдворят', 640053),\n",
       " ('вызови', 372738),\n",
       " ('отличавшееся', 320956),\n",
       " ('вежливами', 275765),\n",
       " ('радыгин', 215209),\n",
       " ('устраивался', 205679),\n",
       " ('352501001', 200416),\n",
       " ('walk', 192847)]"
      ]
     },
     "execution_count": 18,
     "metadata": {},
     "output_type": "execute_result"
    }
   ],
   "source": [
    "# слов без стоп-слов\n",
    "vec = CountVectorizer(ngram_range=(1, 1), stop_words=None)\n",
    "bow = vec.fit_transform(df.text)\n",
    "sorted(list(zip(vec.vocabulary_.keys(), bow.sum(0).getA1())), key = lambda i: i[1], reverse =True)[:10]"
   ]
  },
  {
   "cell_type": "code",
   "execution_count": 20,
   "metadata": {},
   "outputs": [],
   "source": [
    "df = df.dropna()"
   ]
  },
  {
   "cell_type": "code",
   "execution_count": 21,
   "metadata": {},
   "outputs": [
    {
     "name": "stdout",
     "output_type": "stream",
     "text": [
      "<class 'pandas.core.frame.DataFrame'>\n",
      "Int64Index: 74710 entries, 14 to 138946\n",
      "Data columns (total 10 columns):\n",
      " #   Column              Non-Null Count  Dtype  \n",
      "---  ------              --------------  -----  \n",
      " 0   city                74710 non-null  object \n",
      " 1   rating_not_checked  74710 non-null  bool   \n",
      " 2   title               74710 non-null  object \n",
      " 3   num_comments        74710 non-null  int64  \n",
      " 4   bank_license        74710 non-null  object \n",
      " 5   author              74710 non-null  object \n",
      " 6   bank_name           74710 non-null  object \n",
      " 7   datetime            74710 non-null  object \n",
      " 8   text                74710 non-null  object \n",
      " 9   rating_grade        74710 non-null  float64\n",
      "dtypes: bool(1), float64(1), int64(1), object(7)\n",
      "memory usage: 5.8+ MB\n"
     ]
    }
   ],
   "source": [
    "df.info()"
   ]
  },
  {
   "cell_type": "code",
   "execution_count": null,
   "metadata": {},
   "outputs": [],
   "source": [
    "Y = df.rating_grade"
   ]
  },
  {
   "cell_type": "code",
   "execution_count": 31,
   "metadata": {},
   "outputs": [
    {
     "data": {
      "text/plain": [
       "(74710, 9)"
      ]
     },
     "execution_count": 31,
     "metadata": {},
     "output_type": "execute_result"
    }
   ],
   "source": [
    "X = df.drop('rating_grade', axis=1)"
   ]
  },
  {
   "cell_type": "code",
   "execution_count": 34,
   "metadata": {},
   "outputs": [
    {
     "data": {
      "text/plain": [
       "((3735, 9), (70975, 9), (3735,), (70975,))"
      ]
     },
     "execution_count": 34,
     "metadata": {},
     "output_type": "execute_result"
    }
   ],
   "source": [
    "# С целью уменьшения нагрузки на процессор сделаем выборку из датасета\n",
    "X_train, X_test, y_train, y_test = train_test_split(X, Y, train_size=0.05, random_state=42, stratify = Y)\n",
    "X_train.shape, X_test.shape, y_train.shape, y_test.shape"
   ]
  },
  {
   "cell_type": "code",
   "execution_count": 35,
   "metadata": {},
   "outputs": [],
   "source": [
    "X = X_train\n",
    "Y = y_train"
   ]
  },
  {
   "cell_type": "code",
   "execution_count": 44,
   "metadata": {},
   "outputs": [
    {
     "data": {
      "text/plain": [
       "[('автокопилка', 718),\n",
       " ('116511', 424),\n",
       " ('129684', 379),\n",
       " ('137025', 362),\n",
       " ('медиамаркт', 291),\n",
       " ('114178', 288),\n",
       " ('мос', 250),\n",
       " ('навязчивый', 201),\n",
       " ('сайту', 198),\n",
       " ('специал', 185)]"
      ]
     },
     "execution_count": 44,
     "metadata": {},
     "output_type": "execute_result"
    }
   ],
   "source": [
    "# лемм\n",
    "lemmas1 = [morph.parse(word)[0].normal_form for word in X.text.to_string().lower().split()]\n",
    "vec_lemm = CountVectorizer(ngram_range=(1, 1), stop_words=stopwords.words('russian'))\n",
    "bow_lemm = vec_lemm.fit_transform(lemmas1)\n",
    "sorted(list(zip(vec_lemm.vocabulary_.keys(), bow_lemm.sum(0).getA1())), key = lambda i: i[1], reverse =True)[:10]"
   ]
  },
  {
   "cell_type": "code",
   "execution_count": 88,
   "metadata": {},
   "outputs": [
    {
     "data": {
      "text/plain": [
       "[('качество', 634),\n",
       " ('акб', 347),\n",
       " ('операционист', 287),\n",
       " ('мини', 243),\n",
       " ('рублёв', 141),\n",
       " ('трубка', 138),\n",
       " ('оплата', 131),\n",
       " ('общественность', 94),\n",
       " ('жалоба', 88),\n",
       " ('форумчанин', 85)]"
      ]
     },
     "execution_count": 88,
     "metadata": {},
     "output_type": "execute_result"
    }
   ],
   "source": [
    "# существительных\n",
    " \n",
    "noun = [word for word in lemmas1 if morph.parse(word)[0].tag.POS=='NOUN' ]\n",
    "noun\n",
    "vec_noun = CountVectorizer(ngram_range=(1, 1))\n",
    "bow_noun = vec_noun.fit_transform(noun)\n",
    "sorted(list(zip(vec_noun.vocabulary_.keys(), bow_noun.sum(0).getA1())), key = lambda i: i[1], reverse =True)[:10]"
   ]
  },
  {
   "cell_type": "markdown",
   "metadata": {},
   "source": [
    "* Постройте кривые Ципфа и Хипса"
   ]
  },
  {
   "cell_type": "code",
   "execution_count": 90,
   "metadata": {},
   "outputs": [
    {
     "data": {
      "text/plain": [
       "'!\"#$%&\\'()*+,-./:;<=>?@[\\\\]^_`{|}~'"
      ]
     },
     "execution_count": 90,
     "metadata": {},
     "output_type": "execute_result"
    }
   ],
   "source": [
    "from string import punctuation\n",
    "punctuation"
   ]
  },
  {
   "cell_type": "code",
   "execution_count": 93,
   "metadata": {},
   "outputs": [
    {
     "name": "stdout",
     "output_type": "stream",
     "text": [
      "1033425\n"
     ]
    },
    {
     "data": {
      "text/plain": [
       "['Здравствуйте',\n",
       " 'Очень',\n",
       " 'хочется',\n",
       " 'выразить',\n",
       " 'благодарность',\n",
       " 'руководителю',\n",
       " 'Ал-ной',\n",
       " 'Л.С',\n",
       " 'отделения',\n",
       " 'Сбербанка']"
      ]
     },
     "execution_count": 93,
     "metadata": {},
     "output_type": "execute_result"
    }
   ],
   "source": [
    "from collections import Counter\n",
    "corpus = [token for tweet in X.text for token in word_tokenize(tweet) if token not in punctuation]\n",
    "print(len(corpus))\n",
    "corpus[:10]"
   ]
  },
  {
   "cell_type": "code",
   "execution_count": 96,
   "metadata": {},
   "outputs": [
    {
     "data": {
      "text/plain": [
       "[('в', 32932),\n",
       " ('и', 28122),\n",
       " ('не', 22896),\n",
       " ('на', 17667),\n",
       " ('что', 17530),\n",
       " ('я', 12539),\n",
       " ('с', 12020),\n",
       " ('по', 9354),\n",
       " ('мне', 8515),\n",
       " ('банка', 6631)]"
      ]
     },
     "execution_count": 96,
     "metadata": {},
     "output_type": "execute_result"
    }
   ],
   "source": [
    "freq_dict = Counter(corpus)\n",
    "\n",
    "# freq_dict_sorted= sorted(freq_dict.items(), key=lambda x: -x[1])\n",
    "freq_dict.most_common(10)"
   ]
  },
  {
   "cell_type": "code",
   "execution_count": 97,
   "metadata": {},
   "outputs": [
    {
     "data": {
      "image/png": "[encoded data removed]",
      "text/plain": [
       "<Figure size 432x288 with 1 Axes>"
      ]
     },
     "metadata": {
      "needs_background": "light"
     },
     "output_type": "display_data"
    }
   ],
   "source": [
    "import matplotlib.pyplot as plt\n",
    "%matplotlib inline\n",
    "\n",
    "freqs = list(freq_dict.values())\n",
    "freqs = sorted(freqs, reverse = True)\n",
    "\n",
    "fig, ax = plt.subplots()\n",
    "ax.plot(freqs[:300], range(300))\n",
    "ax.set_title(u'Кривая Ципфа', fontsize=12)\n",
    "plt.show()"
   ]
  },
  {
   "cell_type": "code",
   "execution_count": 130,
   "metadata": {},
   "outputs": [
    {
     "name": "stderr",
     "output_type": "stream",
     "text": [
      "100%|██████████| 3735/3735 [00:44<00:00, 84.36it/s] \n"
     ]
    }
   ],
   "source": [
    "from tqdm import tqdm\n",
    "\n",
    "cnt = Counter()\n",
    "n_words = []\n",
    "n_tokens = []\n",
    "tokens = []\n",
    "for index, row in tqdm(X.iterrows(), total = len(X)):\n",
    "    tokens = word_tokenize(row['text'])\n",
    "    cnt.update([token for token in tokens if token not in punctuation])\n",
    "    n_words.append(len(cnt))\n",
    "    n_tokens.append(sum(list(cnt.values())))"
   ]
  },
  {
   "cell_type": "code",
   "execution_count": 131,
   "metadata": {},
   "outputs": [
    {
     "data": {
      "image/png": "[encoded data removed]",
      "text/plain": [
       "<Figure size 432x288 with 1 Axes>"
      ]
     },
     "metadata": {
      "needs_background": "light"
     },
     "output_type": "display_data"
    }
   ],
   "source": [
    "fig, ax = plt.subplots()\n",
    "ax.plot(n_tokens, n_words)\n",
    "ax.set_title(u'Кривая Хипса', fontsize=12)\n",
    "plt.show()"
   ]
  },
  {
   "cell_type": "markdown",
   "metadata": {},
   "source": [
    "* Ответьте на следующие вопросы:\n",
    "    * какое слово встречается чаще, \"сотрудник\" или \"клиент\"?\n",
    "    * сколько раз встречается слова \"мошенничество\" и \"доверие\"?"
   ]
  },
  {
   "cell_type": "code",
   "execution_count": 155,
   "metadata": {},
   "outputs": [
    {
     "name": "stdout",
     "output_type": "stream",
     "text": [
      "сотрудник 744\n",
      "клиент 405\n",
      "мошенничество 19\n",
      "доверие 27\n"
     ]
    }
   ],
   "source": [
    "for  i in [\"сотрудник\", \"клиент\", \"мошенничество\", \"доверие\"]:\n",
    "    print(i, freq_dict.get(i))"
   ]
  },
  {
   "cell_type": "markdown",
   "metadata": {},
   "source": [
    "* В поле \"rating_grade\" записана оценка отзыва по шкале от 1 до 5.\n",
    "Используйте меру $tf-idf$, для того, чтобы найти ключевые слова и биграмы для положительных отзывов\n",
    "(с оценкой 5) и отрицательных отзывов (с оценкой 1)"
   ]
  },
  {
   "cell_type": "code",
   "execution_count": 159,
   "metadata": {},
   "outputs": [],
   "source": [
    "pos = df.loc[df.rating_grade==5]\n",
    "neg = df.loc[df.rating_grade==1]"
   ]
  },
  {
   "cell_type": "code",
   "execution_count": 178,
   "metadata": {},
   "outputs": [],
   "source": [
    "vec = TfidfVectorizer(ngram_range=(1, 1), stop_words=stopwords.words('russian'))\n",
    "bow = vec.fit(df.title)"
   ]
  },
  {
   "cell_type": "code",
   "execution_count": 179,
   "metadata": {},
   "outputs": [
    {
     "name": "stdout",
     "output_type": "stream",
     "text": [
      "Ключевые слова для положительных отзывов\n"
     ]
    },
    {
     "data": {
      "text/plain": [
       "[('проблемами', 395.40761430558575),\n",
       " ('теряет', 368.233497444977),\n",
       " ('59р', 321.3188033696577),\n",
       " ('вынуждающее', 251.51163214893674),\n",
       " ('вину', 184.50265894687792),\n",
       " ('рассрочкой', 130.49433088983287),\n",
       " ('горькое', 105.3107339908883),\n",
       " ('строить', 104.89816666316145),\n",
       " ('начхать', 102.70455261485913),\n",
       " ('принесет', 99.939706225379)]"
      ]
     },
     "execution_count": 179,
     "metadata": {},
     "output_type": "execute_result"
    }
   ],
   "source": [
    "print('Ключевые слова для положительных отзывов')\n",
    "bow_pos = bow.transform(pos.title)\n",
    "sorted(list(zip(vec.vocabulary_.keys(), bow_pos.sum(0).getA1())), key = lambda i: i[1], reverse =True)[:10]"
   ]
  },
  {
   "cell_type": "code",
   "execution_count": 180,
   "metadata": {},
   "outputs": [
    {
     "name": "stdout",
     "output_type": "stream",
     "text": [
      "Ключевые слова для отрицательных отзывов\n"
     ]
    },
    {
     "data": {
      "text/plain": [
       "[('недобросовестный', 959.9768563602177),\n",
       " ('проблемами', 852.6879745027343),\n",
       " ('рассрочкой', 708.3132166096443),\n",
       " ('великолепно', 523.7249093600086),\n",
       " ('вынуждающее', 498.2691170039271),\n",
       " ('людям', 480.92799949253595),\n",
       " ('человеком', 402.80934368368474),\n",
       " ('пределе', 375.33057133743904),\n",
       " ('среднем', 369.4893102100691),\n",
       " ('побывать', 357.67534090534133)]"
      ]
     },
     "execution_count": 180,
     "metadata": {},
     "output_type": "execute_result"
    }
   ],
   "source": [
    "print('Ключевые слова для отрицательных отзывов')\n",
    "bow_neg = bow.transform(neg.title)\n",
    "sorted(list(zip(vec.vocabulary_.keys(), bow_neg.sum(0).getA1())), key = lambda i: i[1], reverse =True)[:10]"
   ]
  },
  {
   "cell_type": "code",
   "execution_count": 181,
   "metadata": {},
   "outputs": [],
   "source": [
    "vec = TfidfVectorizer(ngram_range=(2, 2), stop_words=stopwords.words('russian'))\n",
    "bow = vec.fit(df.title)"
   ]
  },
  {
   "cell_type": "code",
   "execution_count": 182,
   "metadata": {},
   "outputs": [
    {
     "name": "stdout",
     "output_type": "stream",
     "text": [
      "Биграммы для положительных отзывов\n"
     ]
    },
    {
     "data": {
      "text/plain": [
       "[('сюрприз хоума', 145.05761154080105),\n",
       " ('деньги те', 84.66114249317523),\n",
       " ('ижевске понравилось', 72.64409162293431),\n",
       " ('зависло зависло', 62.243840246095445),\n",
       " ('сотрудники дилетанты', 51.27494515467641),\n",
       " ('руб акции', 46.208923944103425),\n",
       " ('списанные средства', 43.00136248829607),\n",
       " ('добиться регулярного', 42.199609721699694),\n",
       " ('могу добиться', 36.86302736821293),\n",
       " ('банке закрытии', 35.291973612743945)]"
      ]
     },
     "execution_count": 182,
     "metadata": {},
     "output_type": "execute_result"
    }
   ],
   "source": [
    "print('Биграммы для положительных отзывов')\n",
    "bow_pos = bow.transform(pos.title)\n",
    "sorted(list(zip(vec.vocabulary_.keys(), bow_pos.sum(0).getA1())), key = lambda i: i[1], reverse =True)[:10]"
   ]
  },
  {
   "cell_type": "code",
   "execution_count": 183,
   "metadata": {},
   "outputs": [
    {
     "name": "stdout",
     "output_type": "stream",
     "text": [
      "Биграммы для отрицательных отзывов\n"
     ]
    },
    {
     "data": {
      "text/plain": [
       "[('банка рс', 178.33602333094484),\n",
       " ('полезности бесцельных', 175.6623771811733),\n",
       " ('банк выполнять', 160.2605832228851),\n",
       " ('перевод ленинском', 142.83035875679047),\n",
       " ('выдали денежные', 132.6915789856816),\n",
       " ('телефон бесконечные', 125.08112310306095),\n",
       " ('заботится сохранении', 120.90813498566939),\n",
       " ('воза упало', 116.6920572966939),\n",
       " ('сергея николаевича', 112.69620579659352),\n",
       " ('услуга процентов', 109.23015667744804)]"
      ]
     },
     "execution_count": 183,
     "metadata": {},
     "output_type": "execute_result"
    }
   ],
   "source": [
    "print('Биграммы для отрицательных отзывов')\n",
    "bow_neg = bow.transform(neg.title)\n",
    "sorted(list(zip(vec.vocabulary_.keys(), bow_neg.sum(0).getA1())), key = lambda i: i[1], reverse =True)[:10]"
   ]
  },
  {
   "cell_type": "markdown",
   "metadata": {},
   "source": [
    "#### Часть 2. Тематическое моделирование\n",
    "* Постройте несколько тематических моделей коллекции документов с разным числом тем.\n",
    "* Приведите примеры понятных (интерпретируемых) тем.\n",
    "* Найдите темы, в которых упомянуты конкретные банки (Сбербанк, ВТБ, другой банк).\n",
    "* Можете ли вы их прокомментировать / объяснить?\n",
    "* Эта часть задания может быть сделана с использованием gensim."
   ]
  },
  {
   "cell_type": "code",
   "execution_count": 177,
   "metadata": {
    "id": "94UKl3D_IVaS"
   },
   "outputs": [],
   "source": [
    "from gensim.corpora import Dictionary\n",
    "from gensim.models import TfidfModel\n",
    "from gensim import similarities"
   ]
  },
  {
   "cell_type": "code",
   "execution_count": 187,
   "metadata": {},
   "outputs": [],
   "source": [
    "mystopwords = stopwords.words('russian') + [\n",
    "    'это', 'наш' , 'тыс', 'млн', 'млрд', 'также',  'т', 'д',\n",
    "    'который','прошлый','сей', 'свой', 'наш', 'мочь', 'такой'\n",
    "]\n",
    "ru_words = re.compile(\"[А-Яа-я]+\")\n",
    "\n",
    "\n",
    "def words_only(text):\n",
    "    return \" \".join(ru_words.findall(text))\n",
    "\n",
    "\n",
    "def lemmat(text):   \n",
    "    try:\n",
    "        return \" \".join([morph.parse(word)[0].normal_form for word in text.split()]).strip()\n",
    "    except:\n",
    "        return \"\"\n",
    "\n",
    "def remove_stopwords(text, mystopwords = mystopwords):\n",
    "    try:\n",
    "        return \" \".join([token for token in text.split() if not token in mystopwords])\n",
    "    except:\n",
    "        return \"\"\n",
    "\n",
    "    \n",
    "def preprocess(text):\n",
    "    return remove_stopwords(lemmat(words_only(text.lower())))"
   ]
  },
  {
   "cell_type": "code",
   "execution_count": 188,
   "metadata": {},
   "outputs": [
    {
     "data": {
      "text/plain": [
       "69597     здравствуйте очень хотеться выразить благодарн...\n",
       "52111     год назад стать обладатель зарплатный карта ба...\n",
       "20142     сегодня приша л отделение мир м рижский получи...\n",
       "11829     февраль терминал оао мкб внести деньга счёт кр...\n",
       "134821    хотеть выступить защита банк обслуживание хоро...\n",
       "                                ...                        \n",
       "55923     просто издевательски относиться газпромбанк мо...\n",
       "52520     год взять банк хоум кредит адрес г нижний новг...\n",
       "87835     делать вклад время деньга понедельник март ули...\n",
       "118639    решить толком провести выделить минута свободн...\n",
       "70971     добрый день пользоваться услуга банк год принц...\n",
       "Name: text, Length: 3735, dtype: object"
      ]
     },
     "execution_count": 188,
     "metadata": {},
     "output_type": "execute_result"
    }
   ],
   "source": [
    "text = X.text.apply(preprocess)\n",
    "text"
   ]
  },
  {
   "cell_type": "code",
   "execution_count": null,
   "metadata": {
    "id": "suiWngD5IVaS"
   },
   "outputs": [],
   "source": [
    "texts = [text1.split() for text1 in text]"
   ]
  },
  {
   "cell_type": "code",
   "execution_count": 192,
   "metadata": {
    "id": "suiWngD5IVaS"
   },
   "outputs": [],
   "source": [
    "dictionary = Dictionary(texts)\n",
    "corpus = [dictionary.doc2bow(text) for text in texts]"
   ]
  },
  {
   "cell_type": "code",
   "execution_count": 193,
   "metadata": {
    "id": "iqRhGGiMIVaU"
   },
   "outputs": [],
   "source": [
    "tfidf = TfidfModel(corpus)\n",
    "corpus_tfidf = tfidf[corpus]"
   ]
  },
  {
   "cell_type": "code",
   "execution_count": 194,
   "metadata": {
    "id": "5wkWqxvrIVaU"
   },
   "outputs": [
    {
     "data": {
      "text/plain": [
       "<gensim.interfaces.TransformedCorpus at 0x1c9d1076a90>"
      ]
     },
     "execution_count": 194,
     "metadata": {},
     "output_type": "execute_result"
    }
   ],
   "source": [
    "corpus_tfidf"
   ]
  },
  {
   "cell_type": "code",
   "execution_count": 195,
   "metadata": {
    "id": "V_9wme8iIVaU"
   },
   "outputs": [],
   "source": [
    "# %%time\n",
    "index = similarities.MatrixSimilarity(corpus_tfidf)\n",
    "sims = index[corpus_tfidf]"
   ]
  },
  {
   "cell_type": "code",
   "execution_count": 196,
   "metadata": {
    "id": "H-oALd69IVaU"
   },
   "outputs": [
    {
     "data": {
      "text/plain": [
       "3735"
      ]
     },
     "execution_count": 196,
     "metadata": {},
     "output_type": "execute_result"
    }
   ],
   "source": [
    "len(corpus)"
   ]
  },
  {
   "cell_type": "code",
   "execution_count": 197,
   "metadata": {
    "id": "k7oaTBsaIVaU"
   },
   "outputs": [
    {
     "data": {
      "text/plain": [
       "array([0.9999999 , 0.03438673, 0.02418807, ..., 0.00441715, 0.01904603,\n",
       "       0.02825274], dtype=float32)"
      ]
     },
     "execution_count": 197,
     "metadata": {},
     "output_type": "execute_result"
    }
   ],
   "source": [
    "sims[0]"
   ]
  },
  {
   "cell_type": "code",
   "execution_count": 198,
   "metadata": {
    "id": "7vkjUDpvIVaU"
   },
   "outputs": [
    {
     "data": {
      "text/plain": [
       "(3735, 3735)"
      ]
     },
     "execution_count": 198,
     "metadata": {},
     "output_type": "execute_result"
    }
   ],
   "source": [
    "sims.shape"
   ]
  },
  {
   "cell_type": "code",
   "execution_count": 201,
   "metadata": {
    "id": "RKbwUo3zIVaV"
   },
   "outputs": [],
   "source": [
    "from gensim.models import lsimodel"
   ]
  },
  {
   "cell_type": "code",
   "execution_count": 206,
   "metadata": {
    "id": "B1-mIFauIVaV"
   },
   "outputs": [],
   "source": [
    "# 5 тем\n",
    "lsi = lsimodel.LsiModel(corpus=corpus_tfidf, id2word=dictionary, num_topics=5)"
   ]
  },
  {
   "cell_type": "code",
   "execution_count": 207,
   "metadata": {
    "id": "g49xUkq3IVaW"
   },
   "outputs": [
    {
     "data": {
      "text/plain": [
       "[(0,\n",
       "  '0.197*\"карта\" + 0.138*\"кредит\" + 0.116*\"вклад\" + 0.112*\"банкомат\" + 0.111*\"деньга\" + 0.111*\"заявление\" + 0.106*\"счёт\" + 0.099*\"отделение\" + 0.096*\"сбербанк\" + 0.093*\"сумма\"'),\n",
       " (1,\n",
       "  '0.556*\"вклад\" + -0.285*\"кредит\" + -0.160*\"платёж\" + -0.150*\"страховка\" + 0.148*\"очередь\" + -0.144*\"погашение\" + 0.128*\"открыть\" + -0.120*\"задолженность\" + -0.106*\"заявление\" + 0.104*\"касса\"'),\n",
       " (2,\n",
       "  '-0.402*\"банкомат\" + 0.330*\"кредит\" + -0.247*\"карта\" + 0.231*\"вклад\" + 0.205*\"страховка\" + -0.162*\"сбербанк\" + 0.151*\"договор\" + -0.150*\"деньга\" + -0.131*\"операция\" + 0.115*\"документ\"'),\n",
       " (3,\n",
       "  '-0.349*\"банкомат\" + -0.316*\"вклад\" + 0.311*\"карта\" + 0.176*\"заявка\" + -0.164*\"сумма\" + -0.159*\"деньга\" + -0.122*\"платёж\" + -0.119*\"погашение\" + -0.116*\"кредит\" + -0.111*\"средство\"'),\n",
       " (4,\n",
       "  '-0.422*\"банкомат\" + 0.290*\"вклад\" + 0.217*\"карта\" + -0.159*\"заявка\" + -0.144*\"кредит\" + 0.138*\"счёт\" + 0.134*\"задолженность\" + -0.134*\"очередь\" + 0.115*\"средство\" + -0.111*\"купюра\"')]"
      ]
     },
     "execution_count": 207,
     "metadata": {},
     "output_type": "execute_result"
    }
   ],
   "source": [
    "lsi.show_topics(5)"
   ]
  },
  {
   "cell_type": "code",
   "execution_count": 213,
   "metadata": {},
   "outputs": [],
   "source": [
    "# 30 тем\n",
    "lsi = lsimodel.LsiModel(corpus=corpus_tfidf, id2word=dictionary, num_topics=30)"
   ]
  },
  {
   "cell_type": "code",
   "execution_count": 214,
   "metadata": {},
   "outputs": [
    {
     "data": {
      "text/plain": [
       "[(0,\n",
       "  '0.197*\"карта\" + 0.138*\"кредит\" + 0.116*\"вклад\" + 0.112*\"банкомат\" + 0.111*\"деньга\" + 0.111*\"заявление\" + 0.106*\"счёт\" + 0.099*\"отделение\" + 0.096*\"сбербанк\" + 0.093*\"сумма\"'),\n",
       " (1,\n",
       "  '0.556*\"вклад\" + -0.285*\"кредит\" + -0.159*\"платёж\" + -0.150*\"страховка\" + 0.148*\"очередь\" + -0.145*\"погашение\" + 0.128*\"открыть\" + -0.121*\"задолженность\" + -0.106*\"заявление\" + 0.103*\"касса\"'),\n",
       " (2,\n",
       "  '-0.402*\"банкомат\" + 0.329*\"кредит\" + -0.246*\"карта\" + 0.231*\"вклад\" + 0.205*\"страховка\" + -0.161*\"сбербанк\" + 0.151*\"договор\" + -0.150*\"деньга\" + -0.131*\"операция\" + 0.115*\"документ\"'),\n",
       " (3,\n",
       "  '-0.347*\"банкомат\" + -0.316*\"вклад\" + 0.312*\"карта\" + 0.176*\"заявка\" + -0.164*\"сумма\" + -0.158*\"деньга\" + -0.122*\"платёж\" + -0.118*\"погашение\" + -0.116*\"кредит\" + -0.113*\"средство\"'),\n",
       " (4,\n",
       "  '-0.422*\"банкомат\" + 0.291*\"вклад\" + 0.217*\"карта\" + -0.160*\"заявка\" + -0.143*\"кредит\" + 0.137*\"счёт\" + 0.133*\"задолженность\" + -0.131*\"очередь\" + 0.114*\"средство\" + -0.112*\"купюра\"')]"
      ]
     },
     "execution_count": 214,
     "metadata": {},
     "output_type": "execute_result"
    }
   ],
   "source": [
    "lsi.show_topics(5)"
   ]
  },
  {
   "cell_type": "markdown",
   "metadata": {},
   "source": [
    "##### Понятные темы: карта, кредит, вклад, банкомат"
   ]
  },
  {
   "cell_type": "code",
   "execution_count": 249,
   "metadata": {},
   "outputs": [
    {
     "name": "stdout",
     "output_type": "stream",
     "text": [
      "topic = 0 ('сбербанк', 0.09623265225201241)\n",
      "topic = 2 ('сбербанк', -0.1612483171922016)\n",
      "topic = 5 ('сбербанк', -0.22609427887314837)\n",
      "topic = 7 ('сбербанк', 0.2451094060657448)\n",
      "topic = 8 ('сбербанк', 0.3184233940519557)\n",
      "topic = 10 ('сбербанк', 0.21157122486291544)\n",
      "topic = 10 ('альфа', -0.12094625640492163)\n",
      "topic = 11 ('сбербанк', -0.3579407518369578)\n",
      "topic = 12 ('сбербанк', 0.13783598696790303)\n",
      "topic = 13 ('сбербанк', 0.23308232911409218)\n",
      "topic = 13 ('альфа', 0.16461503476790798)\n",
      "topic = 14 ('сбербанк', -0.14904298309237152)\n",
      "topic = 15 ('альфа', -0.18461890775435816)\n",
      "topic = 16 ('сбербанк', -0.1384911554999508)\n",
      "topic = 21 ('альфа', -0.31474180177585304)\n",
      "topic = 22 ('альфа', 0.41442105470661533)\n",
      "topic = 22 ('втб', -0.12200824382426935)\n",
      "topic = 24 ('альфа', -0.24097016425647566)\n",
      "topic = 24 ('втб', -0.15195590787411303)\n",
      "topic = 25 ('альфа', -0.2014380476894226)\n",
      "topic = 28 ('альфа', -0.17996106585074192)\n",
      "topic = 29 ('сбербанк', -0.11913214474344282)\n"
     ]
    }
   ],
   "source": [
    "for i in range(30):    \n",
    "    for j in lsi.show_topic(topicno=i, topn=10):\n",
    "        if j[0] in ['сбербанк', 'альфа', 'втб']:\n",
    "            print('topic =', i, j)"
   ]
  },
  {
   "cell_type": "markdown",
   "metadata": {},
   "source": [
    "#### Часть 3. Классификация текстов\n",
    "Сформулируем для простоты задачу бинарной классификации: \n",
    "будем классифицировать на два класса, то есть, различать резко отрицательные отзывы (с оценкой 1)\n",
    "и положительные отзывы (с оценкой 5)."
   ]
  },
  {
   "cell_type": "markdown",
   "metadata": {},
   "source": [
    "* Составьте обучающее и тестовое множество: \n",
    "    **выберите из всего набора данных N1 отзывов с оценкой 1 и N2 отзывов с оценкой 5 (значение N1 и N2 – на ваше усмотрение)."
   ]
  },
  {
   "cell_type": "code",
   "execution_count": 264,
   "metadata": {},
   "outputs": [],
   "source": [
    "data = pd.concat([pos.iloc[:3000], neg.iloc[:3000]])"
   ]
  },
  {
   "cell_type": "markdown",
   "metadata": {},
   "source": [
    "* Используйте sklearn.model_selection.train_test_split для разделения множества отобранных документов на обучающее и тестовое."
   ]
  },
  {
   "cell_type": "code",
   "execution_count": 267,
   "metadata": {},
   "outputs": [
    {
     "data": {
      "text/plain": [
       "((4200,), (1800,), (4200,), (1800,))"
      ]
     },
     "execution_count": 267,
     "metadata": {},
     "output_type": "execute_result"
    }
   ],
   "source": [
    "X_train, X_test, y_train, y_test = train_test_split(data.text, data.rating_grade, train_size=0.7, random_state=42, stratify = data.rating_grade)\n",
    "X_train.shape, X_test.shape, y_train.shape, y_test.shape"
   ]
  },
  {
   "cell_type": "code",
   "execution_count": 269,
   "metadata": {},
   "outputs": [
    {
     "data": {
      "text/plain": [
       "26854    покупка машина потребоваться доплата принцип н...\n",
       "3318     декабрь заблокировать карта написать заявление...\n",
       "585      здравствуйте сразу написать являться клиент ба...\n",
       "10647    обслуживание сбербанк бум переров корпус рядом...\n",
       "10814    здравствуйте способ вывод карта информация пла...\n",
       "                               ...                        \n",
       "33222    узнать банк случайно поездка прага решить запа...\n",
       "6616     являться клиент банк год никакой проблема всё ...\n",
       "3299     март месяц день получить зарплатный карточка с...\n",
       "7463     добрый день лебедев владимир являться х год за...\n",
       "5602     добрый день декабрь год оформить ипотечный кре...\n",
       "Name: text, Length: 4200, dtype: object"
      ]
     },
     "execution_count": 269,
     "metadata": {},
     "output_type": "execute_result"
    }
   ],
   "source": [
    "X_train = X_train.apply(preprocess)\n",
    "X_train"
   ]
  },
  {
   "cell_type": "code",
   "execution_count": 270,
   "metadata": {},
   "outputs": [
    {
     "data": {
      "text/plain": [
       "8619     хотеть поблагодарить сотрудник отдел претензио...\n",
       "4672     очень сильно мешать жить постоянный звонок соо...\n",
       "2144     год назад жена сделать вклад ваш банк примерно...\n",
       "5546     снимать деньга банкомат банкомат списать деньг...\n",
       "9623     март г организация подать исполнительный лист ...\n",
       "                               ...                        \n",
       "31492    добрый день обычно отзыв читать решить написат...\n",
       "45281    вообще ткс банк виртуальный поддержка должный ...\n",
       "4810     добрый день март год адрес путём почтовый отпр...\n",
       "43653    перевести телефон рубль пользоваться очень нес...\n",
       "9997     добрый день май оформить кредит телефон связны...\n",
       "Name: text, Length: 1800, dtype: object"
      ]
     },
     "execution_count": 270,
     "metadata": {},
     "output_type": "execute_result"
    }
   ],
   "source": [
    "X_test = X_test.apply(preprocess)\n",
    "X_test"
   ]
  },
  {
   "cell_type": "markdown",
   "metadata": {},
   "source": [
    "* Используйте любой известный вам алгоритм классификации текстов для решения задачи и получите baseline.\n",
    "* Сравните разные варианты векторизации текста: использование только униграм, пар или троек слов или с использованием символьных $n$-грам.\n",
    "* Сравните, как изменяется качество решения задачи при использовании скрытых тем в качестве признаков:\n",
    "     * 1-ый вариант: $tf-idf$ преобразование (sklearn.feature_extraction.text.TfidfTransformer) и сингулярное разложение (оно же – латентый семантический анализ) (sklearn.decomposition.TruncatedSVD),\n",
    "     * 2-ой вариант: тематические модели LDA (sklearn.decomposition.LatentDirichletAllocation). \n",
    "Используйте accuracy и F-measure для оценки качества классификации.\n",
    "В ноутбуке, размещенном в папке репозитория. написан примерный Pipeline для классификации текстов.\n",
    "\n",
    "Эта часть задания может быть сделана с использованием sklearn."
   ]
  },
  {
   "cell_type": "code",
   "execution_count": 280,
   "metadata": {},
   "outputs": [],
   "source": [
    "from sklearn.pipeline import Pipeline\n",
    "from sklearn.ensemble import RandomForestClassifier"
   ]
  },
  {
   "cell_type": "code",
   "execution_count": 295,
   "metadata": {},
   "outputs": [
    {
     "name": "stdout",
     "output_type": "stream",
     "text": [
      "              precision    recall  f1-score   support\n",
      "\n",
      "         1.0       0.82      0.76      0.79       971\n",
      "         5.0       0.74      0.80      0.77       829\n",
      "\n",
      "    accuracy                           0.78      1800\n",
      "   macro avg       0.78      0.78      0.78      1800\n",
      "weighted avg       0.78      0.78      0.78      1800\n",
      "\n",
      "____________________________________\n",
      "              precision    recall  f1-score   support\n",
      "\n",
      "         1.0       0.80      0.82      0.81       871\n",
      "         5.0       0.83      0.80      0.82       929\n",
      "\n",
      "    accuracy                           0.81      1800\n",
      "   macro avg       0.81      0.81      0.81      1800\n",
      "weighted avg       0.81      0.81      0.81      1800\n",
      "\n",
      "____________________________________\n",
      "              precision    recall  f1-score   support\n",
      "\n",
      "         1.0       0.83      0.54      0.66      1379\n",
      "         5.0       0.30      0.64      0.41       421\n",
      "\n",
      "    accuracy                           0.57      1800\n",
      "   macro avg       0.57      0.59      0.53      1800\n",
      "weighted avg       0.71      0.57      0.60      1800\n",
      "\n",
      "____________________________________\n",
      "              precision    recall  f1-score   support\n",
      "\n",
      "         1.0       0.53      0.63      0.57       758\n",
      "         5.0       0.69      0.59      0.64      1042\n",
      "\n",
      "    accuracy                           0.61      1800\n",
      "   macro avg       0.61      0.61      0.61      1800\n",
      "weighted avg       0.62      0.61      0.61      1800\n",
      "\n"
     ]
    }
   ],
   "source": [
    "# 1-вариант: 𝑡𝑓−𝑖𝑑𝑓  преобразование  и сингулярное разложение\n",
    "dic = [((1, 1)), ((2, 2)), ((3, 3))]\n",
    "for i in dic:\n",
    "    clf = Pipeline([ \n",
    "        ('vect', CountVectorizer(ngram_range=i)), \n",
    "        ('tfidf', TfidfTransformer()), \n",
    "        ('tm', TruncatedSVD()), \n",
    "        ('clf', RandomForestClassifier(criterion='entropy', n_estimators=10, max_depth=2, random_state=0))\n",
    "    ])\n",
    "    clf.fit(X_train, y_train)  \n",
    "    pred = clf.predict(X_test)\n",
    "    print(classification_report(pred, y_test))\n",
    "    print('____________________________________')\n",
    "clf = Pipeline([ \n",
    "        ('vect', CountVectorizer(analyzer='char')), \n",
    "        ('tfidf', TfidfTransformer()), \n",
    "        ('tm', TruncatedSVD()), \n",
    "        ('clf', RandomForestClassifier(criterion='entropy', n_estimators=10, max_depth=3, random_state=0))\n",
    "    ])\n",
    "clf.fit(X_train, y_train)  \n",
    "pred = clf.predict(X_test)\n",
    "print(classification_report(pred, y_test))    "
   ]
  },
  {
   "cell_type": "markdown",
   "metadata": {},
   "source": [
    "##### Лучшая оценка на биграммах"
   ]
  },
  {
   "cell_type": "code",
   "execution_count": 294,
   "metadata": {},
   "outputs": [
    {
     "name": "stdout",
     "output_type": "stream",
     "text": [
      "              precision    recall  f1-score   support\n",
      "\n",
      "         1.0       0.67      0.59      0.63      1022\n",
      "         5.0       0.53      0.62      0.57       778\n",
      "\n",
      "    accuracy                           0.60      1800\n",
      "   macro avg       0.60      0.60      0.60      1800\n",
      "weighted avg       0.61      0.60      0.60      1800\n",
      "\n",
      "____________________________________\n",
      "              precision    recall  f1-score   support\n",
      "\n",
      "         1.0       0.83      0.51      0.63      1474\n",
      "         5.0       0.19      0.53      0.28       326\n",
      "\n",
      "    accuracy                           0.51      1800\n",
      "   macro avg       0.51      0.52      0.45      1800\n",
      "weighted avg       0.71      0.51      0.57      1800\n",
      "\n",
      "____________________________________\n",
      "              precision    recall  f1-score   support\n",
      "\n",
      "         1.0       0.00      0.00      0.00         0\n",
      "         5.0       1.00      0.50      0.67      1800\n",
      "\n",
      "    accuracy                           0.50      1800\n",
      "   macro avg       0.50      0.25      0.33      1800\n",
      "weighted avg       1.00      0.50      0.67      1800\n",
      "\n",
      "____________________________________\n",
      "              precision    recall  f1-score   support\n",
      "\n",
      "         1.0       0.65      0.62      0.64       939\n",
      "         5.0       0.61      0.63      0.62       861\n",
      "\n",
      "    accuracy                           0.63      1800\n",
      "   macro avg       0.63      0.63      0.63      1800\n",
      "weighted avg       0.63      0.63      0.63      1800\n",
      "\n"
     ]
    }
   ],
   "source": [
    "# 2-й вариант: тематические модели LDA (sklearn.decomposition.LatentDirichletAllocation)\n",
    "dic = [((1, 1)), ((2, 2)), ((3, 3))]\n",
    "for i in dic:\n",
    "    clf = Pipeline([ \n",
    "        ('vect', CountVectorizer(ngram_range=i)), \n",
    "        ('tfidf', TfidfTransformer()), \n",
    "        ('lda', LatentDirichletAllocation()), \n",
    "        ('clf', RandomForestClassifier(criterion='entropy', n_estimators=10, max_depth=2, random_state=0))\n",
    "    ])\n",
    "    clf.fit(X_train, y_train)  \n",
    "    pred = clf.predict(X_test)\n",
    "    print(classification_report(pred, y_test))\n",
    "    print('____________________________________')\n",
    "clf = Pipeline([ \n",
    "        ('vect', CountVectorizer(analyzer='char')), \n",
    "        ('tfidf', TfidfTransformer()), \n",
    "        ('lda', LatentDirichletAllocation()), \n",
    "        ('clf', RandomForestClassifier(criterion='entropy', n_estimators=10, max_depth=3, random_state=0))\n",
    "    ])\n",
    "clf.fit(X_train, y_train)  \n",
    "pred = clf.predict(X_test)\n",
    "print(classification_report(pred, y_test))    "
   ]
  },
  {
   "cell_type": "markdown",
   "metadata": {},
   "source": [
    "##### Лучшая оценка на символьных n-граммах"
   ]
  },
  {
   "cell_type": "markdown",
   "metadata": {},
   "source": [
    "##### 1-й вариант отработал быстрее и лучше на словах, и сравнимо со 2-м ваиантом на символьных n-граммах"
   ]
  }
 ],
 "metadata": {
  "colab": {
   "collapsed_sections": [],
   "name": "topic_modelling.ipynb",
   "provenance": []
  },
  "kernelspec": {
   "display_name": "Python 3 (ipykernel)",
   "language": "python",
   "name": "python3"
  },
  "language_info": {
   "codemirror_mode": {
    "name": "ipython",
    "version": 3
   },
   "file_extension": ".py",
   "mimetype": "text/x-python",
   "name": "python",
   "nbconvert_exporter": "python",
   "pygments_lexer": "ipython3",
   "version": "3.8.8"
  }
 },
 "nbformat": 4,
 "nbformat_minor": 4
}
