{
 "cells": [
  {
   "cell_type": "markdown",
   "metadata": {},
   "source": [
    "# Домашнее задание № 2 по теме \"Классификация в АОТ\"\n",
    "\n",
    "### Преподаватель: Мария Шеянова\n",
    "\n",
    "## Сделать классификацию данных fakenews\n",
    "#### Используя ноутбук занятия (также размещен в папке Materials) и данные fakenews, 3 раза разными способами получить на задаче классификации значение f1 выше 0.91 для методов на sklearn и выше 0.52 для методов на pytorch."
   ]
  },
  {
   "cell_type": "code",
   "execution_count": null,
   "metadata": {
    "colab": {
     "base_uri": "https://localhost:8080/"
    },
    "executionInfo": {
     "elapsed": 373,
     "status": "ok",
     "timestamp": 1634926342093,
     "user": {
      "displayName": "Мария Шеянова",
      "photoUrl": "https://lh3.googleusercontent.com/a-/AOh14GiUjUBof_UDjR8wi8mc3l27fifrDxuKq5Eomre4PQ=s64",
      "userId": "13414369628864094336"
     },
     "user_tz": -120
    },
    "id": "8EQ4-xO7uyiU",
    "outputId": "604e53c9-3419-492b-8e94-745981f801e1"
   },
   "outputs": [],
   "source": [
    "# !wget https://raw.githubusercontent.com/diptamath/covid_fake_news/main/data/Constraint_Train.csv"
   ]
  },
  {
   "cell_type": "code",
   "execution_count": 1,
   "metadata": {
    "id": "5YCpo8FuuyiW"
   },
   "outputs": [],
   "source": [
    "import pandas as pd\n",
    "import numpy as np\n",
    "import warnings\n",
    "warnings.filterwarnings('ignore')\n",
    "\n",
    "from sklearn.metrics import classification_report\n",
    "from sklearn.feature_extraction.text import CountVectorizer\n",
    "\n",
    "from sklearn.linear_model import LogisticRegression\n",
    "from sklearn.ensemble import RandomForestClassifier\n",
    "from sklearn.tree import DecisionTreeClassifier\n",
    "\n",
    "from sklearn.model_selection import train_test_split"
   ]
  },
  {
   "cell_type": "code",
   "execution_count": 3,
   "metadata": {},
   "outputs": [
    {
     "name": "stderr",
     "output_type": "stream",
     "text": [
      "[nltk_data] Downloading package punkt to\n",
      "[nltk_data]     C:\\Users\\MYSELF\\AppData\\Roaming\\nltk_data...\n",
      "[nltk_data]   Package punkt is already up-to-date!\n"
     ]
    }
   ],
   "source": [
    "import nltk\n",
    "nltk.download('punkt')\n",
    "from nltk.corpus import stopwords\n",
    "from nltk.tokenize import word_tokenize\n",
    "from tqdm import tqdm\n",
    "\n",
    "from gensim.models.word2vec import Word2Vec"
   ]
  },
  {
   "cell_type": "code",
   "execution_count": 4,
   "metadata": {
    "id": "5NSv9Mo9X-tT"
   },
   "outputs": [],
   "source": [
    "df = pd.read_csv('Constraint_Train.csv')"
   ]
  },
  {
   "cell_type": "code",
   "execution_count": 5,
   "metadata": {
    "colab": {
     "base_uri": "https://localhost:8080/",
     "height": 204
    },
    "executionInfo": {
     "elapsed": 7,
     "status": "ok",
     "timestamp": 1634926409684,
     "user": {
      "displayName": "Мария Шеянова",
      "photoUrl": "https://lh3.googleusercontent.com/a-/AOh14GiUjUBof_UDjR8wi8mc3l27fifrDxuKq5Eomre4PQ=s64",
      "userId": "13414369628864094336"
     },
     "user_tz": -120
    },
    "id": "hgpfPhA0uyiX",
    "outputId": "a3cf28b7-29c3-49ec-861b-5770206ec2a1"
   },
   "outputs": [
    {
     "data": {
      "text/html": [
       "<div>\n",
       "<style scoped>\n",
       "    .dataframe tbody tr th:only-of-type {\n",
       "        vertical-align: middle;\n",
       "    }\n",
       "\n",
       "    .dataframe tbody tr th {\n",
       "        vertical-align: top;\n",
       "    }\n",
       "\n",
       "    .dataframe thead th {\n",
       "        text-align: right;\n",
       "    }\n",
       "</style>\n",
       "<table border=\"1\" class=\"dataframe\">\n",
       "  <thead>\n",
       "    <tr style=\"text-align: right;\">\n",
       "      <th></th>\n",
       "      <th>id</th>\n",
       "      <th>tweet</th>\n",
       "      <th>label</th>\n",
       "    </tr>\n",
       "  </thead>\n",
       "  <tbody>\n",
       "    <tr>\n",
       "      <th>0</th>\n",
       "      <td>1</td>\n",
       "      <td>The CDC currently reports 99031 deaths. In gen...</td>\n",
       "      <td>real</td>\n",
       "    </tr>\n",
       "    <tr>\n",
       "      <th>1</th>\n",
       "      <td>2</td>\n",
       "      <td>States reported 1121 deaths a small rise from ...</td>\n",
       "      <td>real</td>\n",
       "    </tr>\n",
       "    <tr>\n",
       "      <th>2</th>\n",
       "      <td>3</td>\n",
       "      <td>Politically Correct Woman (Almost) Uses Pandem...</td>\n",
       "      <td>fake</td>\n",
       "    </tr>\n",
       "    <tr>\n",
       "      <th>3</th>\n",
       "      <td>4</td>\n",
       "      <td>#IndiaFightsCorona: We have 1524 #COVID testin...</td>\n",
       "      <td>real</td>\n",
       "    </tr>\n",
       "    <tr>\n",
       "      <th>4</th>\n",
       "      <td>5</td>\n",
       "      <td>Populous states can generate large case counts...</td>\n",
       "      <td>real</td>\n",
       "    </tr>\n",
       "  </tbody>\n",
       "</table>\n",
       "</div>"
      ],
      "text/plain": [
       "   id                                              tweet label\n",
       "0   1  The CDC currently reports 99031 deaths. In gen...  real\n",
       "1   2  States reported 1121 deaths a small rise from ...  real\n",
       "2   3  Politically Correct Woman (Almost) Uses Pandem...  fake\n",
       "3   4  #IndiaFightsCorona: We have 1524 #COVID testin...  real\n",
       "4   5  Populous states can generate large case counts...  real"
      ]
     },
     "execution_count": 5,
     "metadata": {},
     "output_type": "execute_result"
    }
   ],
   "source": [
    "df.head()"
   ]
  },
  {
   "cell_type": "code",
   "execution_count": 6,
   "metadata": {},
   "outputs": [
    {
     "name": "stdout",
     "output_type": "stream",
     "text": [
      "<class 'pandas.core.frame.DataFrame'>\n",
      "RangeIndex: 6420 entries, 0 to 6419\n",
      "Data columns (total 3 columns):\n",
      " #   Column  Non-Null Count  Dtype \n",
      "---  ------  --------------  ----- \n",
      " 0   id      6420 non-null   int64 \n",
      " 1   tweet   6420 non-null   object\n",
      " 2   label   6420 non-null   object\n",
      "dtypes: int64(1), object(2)\n",
      "memory usage: 150.6+ KB\n"
     ]
    }
   ],
   "source": [
    "df.info()"
   ]
  },
  {
   "cell_type": "code",
   "execution_count": 7,
   "metadata": {
    "colab": {
     "base_uri": "https://localhost:8080/"
    },
    "executionInfo": {
     "elapsed": 2351,
     "status": "ok",
     "timestamp": 1634926417635,
     "user": {
      "displayName": "Мария Шеянова",
      "photoUrl": "https://lh3.googleusercontent.com/a-/AOh14GiUjUBof_UDjR8wi8mc3l27fifrDxuKq5Eomre4PQ=s64",
      "userId": "13414369628864094336"
     },
     "user_tz": -120
    },
    "id": "sO62Fv2YuyiY",
    "outputId": "3fce622e-e9fe-4ad7-c281-35ef31f29c25"
   },
   "outputs": [
    {
     "name": "stderr",
     "output_type": "stream",
     "text": [
      "100%|██████████| 6420/6420 [00:03<00:00, 1920.06it/s]\n"
     ]
    }
   ],
   "source": [
    "sentences = [word_tokenize(text.lower()) for text in tqdm(df.tweet)]"
   ]
  },
  {
   "cell_type": "markdown",
   "metadata": {},
   "source": [
    "#### 1. Увеличим кол-во эпох (итераций)"
   ]
  },
  {
   "cell_type": "code",
   "execution_count": 8,
   "metadata": {
    "colab": {
     "base_uri": "https://localhost:8080/"
    },
    "executionInfo": {
     "elapsed": 6837,
     "status": "ok",
     "timestamp": 1634926464226,
     "user": {
      "displayName": "Мария Шеянова",
      "photoUrl": "https://lh3.googleusercontent.com/a-/AOh14GiUjUBof_UDjR8wi8mc3l27fifrDxuKq5Eomre4PQ=s64",
      "userId": "13414369628864094336"
     },
     "user_tz": -120
    },
    "id": "HV6DsOOPuyiZ",
    "outputId": "1ab78cd7-c673-4825-86cc-e1a473e998dc"
   },
   "outputs": [
    {
     "name": "stdout",
     "output_type": "stream",
     "text": [
      "Wall time: 11.3 s\n"
     ]
    }
   ],
   "source": [
    "%time model_tweets = Word2Vec(sentences, workers=4, vector_size=300, min_count=3, window=5, epochs=30) #size=300,iter=10"
   ]
  },
  {
   "cell_type": "code",
   "execution_count": 9,
   "metadata": {
    "colab": {
     "base_uri": "https://localhost:8080/"
    },
    "executionInfo": {
     "elapsed": 220,
     "status": "ok",
     "timestamp": 1634926475840,
     "user": {
      "displayName": "Мария Шеянова",
      "photoUrl": "https://lh3.googleusercontent.com/a-/AOh14GiUjUBof_UDjR8wi8mc3l27fifrDxuKq5Eomre4PQ=s64",
      "userId": "13414369628864094336"
     },
     "user_tz": -120
    },
    "id": "lmqe5t6BuyiZ",
    "outputId": "fc42d843-9b2c-46d4-e9eb-239e09a2e1ac"
   },
   "outputs": [
    {
     "data": {
      "text/plain": [
       "[('spain', 0.6821738481521606),\n",
       " ('arrest', 0.6691926121711731),\n",
       " ('equivalent', 0.6591994762420654),\n",
       " ('corpses', 0.6301311254501343),\n",
       " ('2015', 0.629820704460144),\n",
       " ('floor', 0.6250253915786743),\n",
       " ('owner', 0.6235564351081848),\n",
       " ('bags', 0.6128586530685425),\n",
       " ('paulo', 0.6105111241340637),\n",
       " ('aoc', 0.6081334352493286)]"
      ]
     },
     "execution_count": 9,
     "metadata": {},
     "output_type": "execute_result"
    }
   ],
   "source": [
    "model_tweets.wv.most_similar('france')"
   ]
  },
  {
   "cell_type": "code",
   "execution_count": 90,
   "metadata": {
    "id": "H1C2ivBwuyia"
   },
   "outputs": [],
   "source": [
    "model_tweets.init_sims()"
   ]
  },
  {
   "cell_type": "code",
   "execution_count": 91,
   "metadata": {
    "id": "9aQM-6_Cuyib"
   },
   "outputs": [],
   "source": [
    "def get_text_embedding(text):\n",
    "    result = []\n",
    "    for word in word_tokenize(text.lower()):\n",
    "        if word in model_tweets.wv:\n",
    "            result.append(model_tweets.wv[word])\n",
    "\n",
    "    if len(result):\n",
    "        result = np.sum(result, axis=0)\n",
    "    else:\n",
    "        result = np.zeros(300)\n",
    "    return result"
   ]
  },
  {
   "cell_type": "code",
   "execution_count": 92,
   "metadata": {
    "colab": {
     "base_uri": "https://localhost:8080/"
    },
    "executionInfo": {
     "elapsed": 3165,
     "status": "ok",
     "timestamp": 1634926500598,
     "user": {
      "displayName": "Мария Шеянова",
      "photoUrl": "https://lh3.googleusercontent.com/a-/AOh14GiUjUBof_UDjR8wi8mc3l27fifrDxuKq5Eomre4PQ=s64",
      "userId": "13414369628864094336"
     },
     "user_tz": -120
    },
    "id": "MEXHIkb7uyib",
    "outputId": "8dc669c3-46d2-45d2-83a5-1e4191da03eb"
   },
   "outputs": [
    {
     "name": "stderr",
     "output_type": "stream",
     "text": [
      "100%|██████████| 6420/6420 [00:04<00:00, 1414.10it/s]\n"
     ]
    }
   ],
   "source": [
    "features = [get_text_embedding(text) for text in tqdm(df.tweet)]"
   ]
  },
  {
   "cell_type": "code",
   "execution_count": 93,
   "metadata": {
    "id": "45OhRwtTuyic"
   },
   "outputs": [],
   "source": [
    "X_train, X_test, y_train, y_test = train_test_split(features, df.label, test_size=0.33)"
   ]
  },
  {
   "cell_type": "code",
   "execution_count": 94,
   "metadata": {
    "colab": {
     "base_uri": "https://localhost:8080/"
    },
    "executionInfo": {
     "elapsed": 343,
     "status": "ok",
     "timestamp": 1634926508872,
     "user": {
      "displayName": "Мария Шеянова",
      "photoUrl": "https://lh3.googleusercontent.com/a-/AOh14GiUjUBof_UDjR8wi8mc3l27fifrDxuKq5Eomre4PQ=s64",
      "userId": "13414369628864094336"
     },
     "user_tz": -120
    },
    "id": "r_JNAMZ2uyic",
    "outputId": "2cc20ceb-bd75-452b-b4e5-5b1165057d5f"
   },
   "outputs": [
    {
     "data": {
      "text/plain": [
       "LogisticRegression()"
      ]
     },
     "execution_count": 94,
     "metadata": {},
     "output_type": "execute_result"
    }
   ],
   "source": [
    "model = LogisticRegression()\n",
    "model.fit(X_train, y_train)"
   ]
  },
  {
   "cell_type": "code",
   "execution_count": 95,
   "metadata": {
    "id": "OSBQINBVuyid"
   },
   "outputs": [],
   "source": [
    "predicted = model.predict(X_test)"
   ]
  },
  {
   "cell_type": "code",
   "execution_count": 96,
   "metadata": {
    "colab": {
     "base_uri": "https://localhost:8080/"
    },
    "executionInfo": {
     "elapsed": 4,
     "status": "ok",
     "timestamp": 1634926515421,
     "user": {
      "displayName": "Мария Шеянова",
      "photoUrl": "https://lh3.googleusercontent.com/a-/AOh14GiUjUBof_UDjR8wi8mc3l27fifrDxuKq5Eomre4PQ=s64",
      "userId": "13414369628864094336"
     },
     "user_tz": -120
    },
    "id": "Gh8xvZ-nuyid",
    "outputId": "e1f67627-a68a-4e1f-d124-b1eff508ae1c"
   },
   "outputs": [
    {
     "name": "stdout",
     "output_type": "stream",
     "text": [
      "              precision    recall  f1-score   support\n",
      "\n",
      "        fake       0.92      0.94      0.93      1004\n",
      "        real       0.94      0.93      0.93      1115\n",
      "\n",
      "    accuracy                           0.93      2119\n",
      "   macro avg       0.93      0.93      0.93      2119\n",
      "weighted avg       0.93      0.93      0.93      2119\n",
      "\n"
     ]
    }
   ],
   "source": [
    "print(classification_report(y_test, predicted))"
   ]
  },
  {
   "cell_type": "markdown",
   "metadata": {},
   "source": [
    "#### 2. Используем биграммы"
   ]
  },
  {
   "cell_type": "code",
   "execution_count": 23,
   "metadata": {},
   "outputs": [],
   "source": [
    "from gensim.models import Phrases\n",
    "bigram_transformer = Phrases(sentences)"
   ]
  },
  {
   "cell_type": "code",
   "execution_count": 97,
   "metadata": {},
   "outputs": [
    {
     "name": "stdout",
     "output_type": "stream",
     "text": [
      "Wall time: 26.2 s\n"
     ]
    }
   ],
   "source": [
    "%time model_tweets_2 = Word2Vec(bigram_transformer[sentences], min_count=3, workers=4, vector_size=300, window=5, epochs=30) #size=300,iter=10"
   ]
  },
  {
   "cell_type": "code",
   "execution_count": 98,
   "metadata": {},
   "outputs": [
    {
     "data": {
      "text/plain": [
       "[('tower', 0.7366728186607361),\n",
       " ('center', 0.7318812012672424),\n",
       " ('spain', 0.7253624796867371),\n",
       " ('lying_on', 0.7239167094230652),\n",
       " ('floor', 0.7238917946815491),\n",
       " ('tour', 0.7218869924545288),\n",
       " ('italy', 0.7169357538223267),\n",
       " ('wuhan_institute', 0.714030385017395),\n",
       " ('2015', 0.7131055593490601),\n",
       " ('representative', 0.7113916873931885)]"
      ]
     },
     "execution_count": 98,
     "metadata": {},
     "output_type": "execute_result"
    }
   ],
   "source": [
    "model_tweets_2.wv.most_similar('france')"
   ]
  },
  {
   "cell_type": "code",
   "execution_count": 99,
   "metadata": {},
   "outputs": [],
   "source": [
    "model_tweets_2.init_sims()"
   ]
  },
  {
   "cell_type": "code",
   "execution_count": 100,
   "metadata": {},
   "outputs": [],
   "source": [
    "def get_text_embedding2(text):\n",
    "    result = []\n",
    "    for word in word_tokenize(text.lower()):\n",
    "        if word in model_tweets_2.wv:\n",
    "            result.append(model_tweets_2.wv[word])\n",
    "\n",
    "    if len(result):\n",
    "        result = np.sum(result, axis=0)\n",
    "    else:\n",
    "        result = np.zeros(300)\n",
    "    return result"
   ]
  },
  {
   "cell_type": "code",
   "execution_count": 101,
   "metadata": {},
   "outputs": [
    {
     "name": "stderr",
     "output_type": "stream",
     "text": [
      "100%|██████████| 6420/6420 [00:04<00:00, 1405.12it/s]\n"
     ]
    }
   ],
   "source": [
    "features2 = [get_text_embedding2(text) for text in tqdm(df.tweet)]"
   ]
  },
  {
   "cell_type": "code",
   "execution_count": 102,
   "metadata": {},
   "outputs": [],
   "source": [
    "X_train2, X_test2, y_train2, y_test2 = train_test_split(features2, df.label, test_size=0.33)"
   ]
  },
  {
   "cell_type": "code",
   "execution_count": 103,
   "metadata": {},
   "outputs": [
    {
     "name": "stdout",
     "output_type": "stream",
     "text": [
      "              precision    recall  f1-score   support\n",
      "\n",
      "        fake       0.91      0.91      0.91      1002\n",
      "        real       0.92      0.92      0.92      1117\n",
      "\n",
      "    accuracy                           0.92      2119\n",
      "   macro avg       0.92      0.92      0.92      2119\n",
      "weighted avg       0.92      0.92      0.92      2119\n",
      "\n"
     ]
    }
   ],
   "source": [
    "lr2 = LogisticRegression()\n",
    "lr2.fit(X_train2, y_train2)\n",
    "predicted_lr2 = lr2.predict(X_test2)\n",
    "print(classification_report(y_test2, predicted_lr2))"
   ]
  },
  {
   "cell_type": "markdown",
   "metadata": {},
   "source": [
    "#### 3. Используем предобработку (убираем стоп слова)"
   ]
  },
  {
   "cell_type": "code",
   "execution_count": 84,
   "metadata": {
    "id": "EY2CQW0wuyie"
   },
   "outputs": [],
   "source": [
    "vec = CountVectorizer(ngram_range=(1, 1), stop_words=stopwords.words('english'))\n",
    "bow = vec.fit_transform(df.tweet)"
   ]
  },
  {
   "cell_type": "code",
   "execution_count": 85,
   "metadata": {
    "colab": {
     "base_uri": "https://localhost:8080/"
    },
    "executionInfo": {
     "elapsed": 567,
     "status": "ok",
     "timestamp": 1634926543571,
     "user": {
      "displayName": "Мария Шеянова",
      "photoUrl": "https://lh3.googleusercontent.com/a-/AOh14GiUjUBof_UDjR8wi8mc3l27fifrDxuKq5Eomre4PQ=s64",
      "userId": "13414369628864094336"
     },
     "user_tz": -120
    },
    "id": "sVzRicjKuyif",
    "outputId": "d495e8e6-ec28-48b5-f6cd-dd113f9e490e"
   },
   "outputs": [
    {
     "data": {
      "text/plain": [
       "LogisticRegression()"
      ]
     },
     "execution_count": 85,
     "metadata": {},
     "output_type": "execute_result"
    }
   ],
   "source": [
    "X_train3, X_test3, y_train3, y_test3 = train_test_split(bow, df.label, test_size=0.33)\n",
    "lr3 = LogisticRegression()\n",
    "lr3.fit(X_train3, y_train3)"
   ]
  },
  {
   "cell_type": "code",
   "execution_count": 86,
   "metadata": {
    "colab": {
     "base_uri": "https://localhost:8080/"
    },
    "executionInfo": {
     "elapsed": 216,
     "status": "ok",
     "timestamp": 1634926546010,
     "user": {
      "displayName": "Мария Шеянова",
      "photoUrl": "https://lh3.googleusercontent.com/a-/AOh14GiUjUBof_UDjR8wi8mc3l27fifrDxuKq5Eomre4PQ=s64",
      "userId": "13414369628864094336"
     },
     "user_tz": -120
    },
    "id": "xMowWWtnuyif",
    "outputId": "cc07a8d7-de59-4b58-db1b-478cd640c579"
   },
   "outputs": [
    {
     "name": "stdout",
     "output_type": "stream",
     "text": [
      "              precision    recall  f1-score   support\n",
      "\n",
      "        fake       0.93      0.93      0.93      1012\n",
      "        real       0.94      0.93      0.94      1107\n",
      "\n",
      "    accuracy                           0.93      2119\n",
      "   macro avg       0.93      0.93      0.93      2119\n",
      "weighted avg       0.93      0.93      0.93      2119\n",
      "\n"
     ]
    }
   ],
   "source": [
    "predicted3 = lr3.predict(X_test3)\n",
    "print(classification_report(y_test3, predicted3))"
   ]
  },
  {
   "cell_type": "markdown",
   "metadata": {
    "id": "T6qOclJPuyif"
   },
   "source": [
    "### PyTorch + LSTM"
   ]
  },
  {
   "cell_type": "code",
   "execution_count": 10,
   "metadata": {
    "id": "wHDxqZnTuyif"
   },
   "outputs": [],
   "source": [
    "labels = (df.label == 'real').astype(int).to_list()"
   ]
  },
  {
   "cell_type": "markdown",
   "metadata": {
    "id": "7fUz2OKauyif"
   },
   "source": [
    "Нужно заранее задать размер для максимальной длины предложений."
   ]
  },
  {
   "cell_type": "code",
   "execution_count": 11,
   "metadata": {
    "id": "8BkQTxbMuyig"
   },
   "outputs": [],
   "source": [
    "token_lists = [word_tokenize(text.lower()) for text in df.tweet]\n",
    "max_len = len(max(token_lists, key=len))"
   ]
  },
  {
   "cell_type": "code",
   "execution_count": 12,
   "metadata": {
    "colab": {
     "base_uri": "https://localhost:8080/"
    },
    "executionInfo": {
     "elapsed": 264,
     "status": "ok",
     "timestamp": 1634926765787,
     "user": {
      "displayName": "Мария Шеянова",
      "photoUrl": "https://lh3.googleusercontent.com/a-/AOh14GiUjUBof_UDjR8wi8mc3l27fifrDxuKq5Eomre4PQ=s64",
      "userId": "13414369628864094336"
     },
     "user_tz": -120
    },
    "id": "125Q6tQhuyig",
    "outputId": "e71cc1c9-5d64-43f6-8b39-efa79aab2197"
   },
   "outputs": [
    {
     "data": {
      "text/plain": [
       "1592"
      ]
     },
     "execution_count": 12,
     "metadata": {},
     "output_type": "execute_result"
    }
   ],
   "source": [
    "max_len"
   ]
  },
  {
   "cell_type": "markdown",
   "metadata": {
    "id": "0HUNPzqWuyig"
   },
   "source": [
    "Это слишком много. Но какая длина обычно?"
   ]
  },
  {
   "cell_type": "code",
   "execution_count": 13,
   "metadata": {
    "id": "4TQVd6Fruyig"
   },
   "outputs": [],
   "source": [
    "from collections import Counter\n",
    "fd = Counter([len(tokens) for tokens in token_lists])"
   ]
  },
  {
   "cell_type": "code",
   "execution_count": 14,
   "metadata": {
    "colab": {
     "base_uri": "https://localhost:8080/"
    },
    "executionInfo": {
     "elapsed": 334,
     "status": "ok",
     "timestamp": 1634926788004,
     "user": {
      "displayName": "Мария Шеянова",
      "photoUrl": "https://lh3.googleusercontent.com/a-/AOh14GiUjUBof_UDjR8wi8mc3l27fifrDxuKq5Eomre4PQ=s64",
      "userId": "13414369628864094336"
     },
     "user_tz": -120
    },
    "id": "CycieWjbuyih",
    "outputId": "9bc37e53-8010-4b5b-b65a-4c618c36ea32"
   },
   "outputs": [
    {
     "data": {
      "text/plain": [
       "[(20, 178),\n",
       " (25, 174),\n",
       " (22, 170),\n",
       " (18, 170),\n",
       " (19, 168),\n",
       " (21, 168),\n",
       " (16, 163),\n",
       " (17, 162),\n",
       " (15, 160),\n",
       " (23, 156)]"
      ]
     },
     "execution_count": 14,
     "metadata": {},
     "output_type": "execute_result"
    }
   ],
   "source": [
    "fd.most_common(10)"
   ]
  },
  {
   "cell_type": "markdown",
   "metadata": {
    "id": "3LNWZldVuyih"
   },
   "source": [
    "Зададим максимум 200."
   ]
  },
  {
   "cell_type": "markdown",
   "metadata": {
    "id": "FxPTNDQ0uyii"
   },
   "source": [
    "Возьмём те же w2v эмбеддинги."
   ]
  },
  {
   "cell_type": "code",
   "execution_count": 144,
   "metadata": {
    "id": "cNOPWCq1uyii"
   },
   "outputs": [],
   "source": [
    "def get_word_embedding(tokens, max_len):\n",
    "    result = []\n",
    "    for i in range(max_len):\n",
    "        if i < len(tokens):\n",
    "            word = tokens[i]\n",
    "            if word in model_tweets.wv:\n",
    "                result.append(model_tweets.wv[word])\n",
    "            else:\n",
    "                result.append(np.zeros(300))\n",
    "        else:\n",
    "            result.append(np.zeros(300))\n",
    "    return result"
   ]
  },
  {
   "cell_type": "code",
   "execution_count": 145,
   "metadata": {
    "colab": {
     "base_uri": "https://localhost:8080/"
    },
    "executionInfo": {
     "elapsed": 4057,
     "status": "ok",
     "timestamp": 1634927170637,
     "user": {
      "displayName": "Мария Шеянова",
      "photoUrl": "https://lh3.googleusercontent.com/a-/AOh14GiUjUBof_UDjR8wi8mc3l27fifrDxuKq5Eomre4PQ=s64",
      "userId": "13414369628864094336"
     },
     "user_tz": -120
    },
    "id": "tBkyQdORuyii",
    "outputId": "d783bc1c-d796-48b7-e626-07fc85bfc5db"
   },
   "outputs": [
    {
     "name": "stderr",
     "output_type": "stream",
     "text": [
      "100%|██████████| 6420/6420 [00:22<00:00, 291.00it/s]\n"
     ]
    }
   ],
   "source": [
    "features = [get_word_embedding(text, 200) for text in tqdm(token_lists)]"
   ]
  },
  {
   "cell_type": "code",
   "execution_count": 146,
   "metadata": {
    "id": "_COity4Puyij"
   },
   "outputs": [],
   "source": [
    "X_train, X_test, y_train, y_test = train_test_split(features, labels, test_size=0.33)"
   ]
  },
  {
   "cell_type": "code",
   "execution_count": 19,
   "metadata": {
    "id": "DXHLD6eKuyij"
   },
   "outputs": [],
   "source": [
    "import torch\n",
    "import torch.nn as nn\n",
    "import torch.optim as optim\n",
    "from torch.autograd import Variable"
   ]
  },
  {
   "cell_type": "code",
   "execution_count": 253,
   "metadata": {
    "colab": {
     "base_uri": "https://localhost:8080/"
    },
    "executionInfo": {
     "elapsed": 254,
     "status": "ok",
     "timestamp": 1634927307710,
     "user": {
      "displayName": "Мария Шеянова",
      "photoUrl": "https://lh3.googleusercontent.com/a-/AOh14GiUjUBof_UDjR8wi8mc3l27fifrDxuKq5Eomre4PQ=s64",
      "userId": "13414369628864094336"
     },
     "user_tz": -120
    },
    "id": "ZwGQpAbcuyij",
    "outputId": "d779c4cf-92de-4965-b016-249b22b973ec"
   },
   "outputs": [
    {
     "data": {
      "text/plain": [
       "(300, 4301, 200, 300)"
      ]
     },
     "execution_count": 253,
     "metadata": {},
     "output_type": "execute_result"
    }
   ],
   "source": [
    "len(features[0][0]), len(X_train), len(X_train[0]), len(X_train[0][0])"
   ]
  },
  {
   "cell_type": "markdown",
   "metadata": {},
   "source": [
    "#### Добавим dropout и разобъём на batch каждую строку"
   ]
  },
  {
   "cell_type": "code",
   "execution_count": 235,
   "metadata": {},
   "outputs": [
    {
     "name": "stdout",
     "output_type": "stream",
     "text": [
      "Net(\n",
      "  (lstm): LSTM(300, 100, dropout=0.5)\n",
      "  (out): Linear(in_features=100, out_features=1, bias=True)\n",
      ")\n"
     ]
    }
   ],
   "source": [
    "class Net(nn.Module):\n",
    "\n",
    "    def __init__(self):\n",
    "        super(Net, self).__init__()\n",
    "        self.lstm = nn.LSTM(300, 100, dropout=0.5)\n",
    "        self.out = nn.Linear(100, 1)\n",
    "\n",
    "    def forward(self, x):\n",
    "        embeddings, (shortterm, longterm) = self.lstm(x.transpose(0, 1))\n",
    "        prediction = torch.nn.functional.sigmoid(self.out(longterm))\n",
    "        return prediction\n",
    "\n",
    "\n",
    "net = Net()\n",
    "print(net)"
   ]
  },
  {
   "cell_type": "code",
   "execution_count": 153,
   "metadata": {
    "id": "cOjKyQdnuyij"
   },
   "outputs": [],
   "source": [
    "in_data = torch.tensor(X_train).float()\n",
    "targets = torch.tensor(y_train).float()"
   ]
  },
  {
   "cell_type": "code",
   "execution_count": 238,
   "metadata": {
    "colab": {
     "base_uri": "https://localhost:8080/"
    },
    "executionInfo": {
     "elapsed": 5,
     "status": "ok",
     "timestamp": 1634927920666,
     "user": {
      "displayName": "Мария Шеянова",
      "photoUrl": "https://lh3.googleusercontent.com/a-/AOh14GiUjUBof_UDjR8wi8mc3l27fifrDxuKq5Eomre4PQ=s64",
      "userId": "13414369628864094336"
     },
     "user_tz": -120
    },
    "id": "Surg_PcQuyij",
    "outputId": "d1f063ac-e5a2-4455-f3f9-ee2964e93bc3"
   },
   "outputs": [
    {
     "data": {
      "text/plain": [
       "(torch.Size([4301, 200, 300]), torch.Size([4301]))"
      ]
     },
     "execution_count": 238,
     "metadata": {},
     "output_type": "execute_result"
    }
   ],
   "source": [
    "in_data.shape, targets.shape"
   ]
  },
  {
   "cell_type": "code",
   "execution_count": 237,
   "metadata": {
    "id": "dQ8WQFlnuyik"
   },
   "outputs": [],
   "source": [
    "optimizer = optim.SGD(net.parameters(), lr=0.01, momentum=0.9)\n",
    "criterion = nn.BCELoss()"
   ]
  },
  {
   "cell_type": "code",
   "execution_count": 242,
   "metadata": {
    "id": "ujjn4KVIuyik"
   },
   "outputs": [],
   "source": [
    "def train_one_epoch(in_data, targets, batch_size=16):\n",
    "    for b in tqdm(range(0, in_data.shape[0])):\n",
    "        for i in range(0, 200, batch_size): #tqdm(range(0, in_data.shape[0], batch_size)):\n",
    "            batch_x = in_data[b:b+1, i:i + batch_size]\n",
    "            batch_y = targets[b]\n",
    "            optimizer.zero_grad()\n",
    "            output = net(batch_x)\n",
    "            loss = criterion(output.reshape(-1), batch_y)\n",
    "            loss.backward()\n",
    "            optimizer.step()\n",
    "    print(loss)"
   ]
  },
  {
   "cell_type": "code",
   "execution_count": 243,
   "metadata": {
    "colab": {
     "base_uri": "https://localhost:8080/"
    },
    "executionInfo": {
     "elapsed": 201594,
     "status": "ok",
     "timestamp": 1634928195260,
     "user": {
      "displayName": "Мария Шеянова",
      "photoUrl": "https://lh3.googleusercontent.com/a-/AOh14GiUjUBof_UDjR8wi8mc3l27fifrDxuKq5Eomre4PQ=s64",
      "userId": "13414369628864094336"
     },
     "user_tz": -120
    },
    "id": "CorzeZjIuyik",
    "outputId": "625e71a7-c226-49f0-cb6e-f8665f642025"
   },
   "outputs": [
    {
     "name": "stderr",
     "output_type": "stream",
     "text": [
      "100%|██████████| 4301/4301 [39:13<00:00,  1.83it/s]"
     ]
    },
    {
     "name": "stdout",
     "output_type": "stream",
     "text": [
      "tensor(0.8283, grad_fn=<BinaryCrossEntropyBackward>)\n"
     ]
    },
    {
     "name": "stderr",
     "output_type": "stream",
     "text": [
      "\n"
     ]
    }
   ],
   "source": [
    "train_one_epoch(in_data, targets)"
   ]
  },
  {
   "cell_type": "code",
   "execution_count": 244,
   "metadata": {
    "id": "CQGiiAiLuyil"
   },
   "outputs": [],
   "source": [
    "in_data_test = torch.tensor(X_test).float()\n",
    "targets_test = torch.tensor(y_test).float()"
   ]
  },
  {
   "cell_type": "code",
   "execution_count": 245,
   "metadata": {},
   "outputs": [
    {
     "data": {
      "text/plain": [
       "(torch.Size([2119, 200, 300]), torch.Size([2119]))"
      ]
     },
     "execution_count": 245,
     "metadata": {},
     "output_type": "execute_result"
    }
   ],
   "source": [
    "in_data_test.shape, targets_test.shape"
   ]
  },
  {
   "cell_type": "code",
   "execution_count": 246,
   "metadata": {
    "id": "9VuVw4uUuyil"
   },
   "outputs": [],
   "source": [
    "with torch.no_grad():\n",
    "    output = net(in_data_test).reshape(-1)"
   ]
  },
  {
   "cell_type": "code",
   "execution_count": 247,
   "metadata": {},
   "outputs": [
    {
     "data": {
      "text/plain": [
       "tensor([0.0065, 0.0101, 0.0175,  ..., 0.9872, 0.9877, 0.9885])"
      ]
     },
     "execution_count": 247,
     "metadata": {},
     "output_type": "execute_result"
    }
   ],
   "source": [
    "output.unique()"
   ]
  },
  {
   "cell_type": "code",
   "execution_count": 248,
   "metadata": {
    "id": "cJxlSn2buyil"
   },
   "outputs": [],
   "source": [
    "result = (output >= 0.5) == targets_test"
   ]
  },
  {
   "cell_type": "code",
   "execution_count": 251,
   "metadata": {},
   "outputs": [
    {
     "data": {
      "text/plain": [
       "1752"
      ]
     },
     "execution_count": 251,
     "metadata": {},
     "output_type": "execute_result"
    }
   ],
   "source": [
    "result.sum().item()"
   ]
  },
  {
   "cell_type": "code",
   "execution_count": 252,
   "metadata": {
    "colab": {
     "base_uri": "https://localhost:8080/"
    },
    "executionInfo": {
     "elapsed": 4,
     "status": "ok",
     "timestamp": 1634928344901,
     "user": {
      "displayName": "Мария Шеянова",
      "photoUrl": "https://lh3.googleusercontent.com/a-/AOh14GiUjUBof_UDjR8wi8mc3l27fifrDxuKq5Eomre4PQ=s64",
      "userId": "13414369628864094336"
     },
     "user_tz": -120
    },
    "id": "JTYoH6Xpuyil",
    "outputId": "f6ef81b0-830b-418e-9fbb-0fd0948e9d5e"
   },
   "outputs": [
    {
     "data": {
      "text/plain": [
       "0.826805096743747"
      ]
     },
     "execution_count": 252,
     "metadata": {},
     "output_type": "execute_result"
    }
   ],
   "source": [
    "result.sum().item() / len(result)"
   ]
  }
 ],
 "metadata": {
  "colab": {
   "collapsed_sections": [],
   "name": "Классификация в NLP.ipynb",
   "provenance": []
  },
  "kernelspec": {
   "display_name": "Python 3 (ipykernel)",
   "language": "python",
   "name": "python3"
  },
  "language_info": {
   "codemirror_mode": {
    "name": "ipython",
    "version": 3
   },
   "file_extension": ".py",
   "mimetype": "text/x-python",
   "name": "python",
   "nbconvert_exporter": "python",
   "pygments_lexer": "ipython3",
   "version": "3.8.8"
  }
 },
 "nbformat": 4,
 "nbformat_minor": 4
}
